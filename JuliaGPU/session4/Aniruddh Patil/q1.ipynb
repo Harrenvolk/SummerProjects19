{
  "nbformat": 4,
  "nbformat_minor": 0,
  "metadata": {
    "colab": {
      "name": "Julia on Colab",
      "version": "0.3.2",
      "provenance": [],
      "collapsed_sections": []
    },
    "kernelspec": {
      "name": "julia-1.0",
      "display_name": "Julia 1.0"
    },
    "accelerator": "GPU"
  },
  "cells": [
    {
      "cell_type": "code",
      "metadata": {
        "id": "oMSuTc3pDlHv",
        "colab_type": "code",
        "outputId": "b43fd088-f5ac-4939-96af-ab10196761ee",
        "colab": {
          "base_uri": "https://localhost:8080/",
          "height": 1413
        }
      },
      "source": [
        "using Pkg\n",
        "\n",
        "Pkg.add(\"CuArrays\")\n",
        "\n",
        "Pkg.add(\"CUDAnative\")\n",
        "\n",
        "Pkg.add(\"CUDAdrv\")\n",
        "\n",
        "using CUDAnative, CUDAdrv, CuArrays"
      ],
      "execution_count": 1,
      "outputs": [
        {
          "output_type": "stream",
          "text": [
            "\u001b[32m\u001b[1m  Updating\u001b[22m\u001b[39m registry at `~/.julia/registries/General`\n",
            "\u001b[32m\u001b[1m  Updating\u001b[22m\u001b[39m git-repo `https://github.com/JuliaRegistries/General.git`\n",
            "\u001b[?25l\u001b[2K\u001b[?25h\u001b[32m\u001b[1m Resolving\u001b[22m\u001b[39m package versions...\n",
            "\u001b[32m\u001b[1m  Updating\u001b[22m\u001b[39m `~/.julia/environments/v1.0/Project.toml`\n",
            "\u001b[90m [no changes]\u001b[39m\n",
            "\u001b[32m\u001b[1m  Updating\u001b[22m\u001b[39m `~/.julia/environments/v1.0/Manifest.toml`\n",
            "\u001b[90m [no changes]\u001b[39m\n",
            "\u001b[32m\u001b[1m Resolving\u001b[22m\u001b[39m package versions...\n",
            "\u001b[32m\u001b[1m  Updating\u001b[22m\u001b[39m `~/.julia/environments/v1.0/Project.toml`\n",
            "\u001b[90m [no changes]\u001b[39m\n",
            "\u001b[32m\u001b[1m  Updating\u001b[22m\u001b[39m `~/.julia/environments/v1.0/Manifest.toml`\n",
            "\u001b[90m [no changes]\u001b[39m\n",
            "\u001b[32m\u001b[1m Resolving\u001b[22m\u001b[39m package versions...\n",
            "\u001b[32m\u001b[1m  Updating\u001b[22m\u001b[39m `~/.julia/environments/v1.0/Project.toml`\n",
            "\u001b[90m [no changes]\u001b[39m\n",
            "\u001b[32m\u001b[1m  Updating\u001b[22m\u001b[39m `~/.julia/environments/v1.0/Manifest.toml`\n",
            "\u001b[90m [no changes]\u001b[39m\n"
          ],
          "name": "stdout"
        },
        {
          "output_type": "stream",
          "text": [
            "Internal error: encountered unexpected error in runtime:\n",
            "BoundsError(a=Array{Core.Compiler.BasicBlock, (32,)}[\n",
            "  Core.Compiler.BasicBlock(stmts=Core.Compiler.StmtRange(first=1, last=7), preds=Array{Int64, (1,)}[32], succs=Array{Int64, (1,)}[2]),\n",
            "  Core.Compiler.BasicBlock(stmts=Core.Compiler.StmtRange(first=8, last=14), preds=Array{Int64, (1,)}[1], succs=Array{Int64, (2,)}[5, 3]),\n",
            "  Core.Compiler.BasicBlock(stmts=Core.Compiler.StmtRange(first=15, last=20), preds=Array{Int64, (1,)}[2], succs=Array{Int64, (1,)}[4]),\n",
            "  Core.Compiler.BasicBlock(stmts=Core.Compiler.StmtRange(first=21, last=21), preds=Array{Int64, (1,)}[3], succs=Array{Int64, (1,)}[7]),\n",
            "  Core.Compiler.BasicBlock(stmts=Core.Compiler.StmtRange(first=22, last=28), preds=Array{Int64, (1,)}[2], succs=Array{Int64, (1,)}[6]),\n",
            "  Core.Compiler.BasicBlock(stmts=Core.Compiler.StmtRange(first=29, last=29), preds=Array{Int64, (1,)}[5], succs=Array{Int64, (1,)}[7]),\n",
            "  Core.Compiler.BasicBlock(stmts=Core.Compiler.StmtRange(first=30, last=47), preds=Array{Int64, (2,)}[4, 6], succs=Array{Int64, (2,)}[9, 8]),\n",
            "  Core.Compiler.BasicBlock(stmts=Core.Compiler.StmtRange(first=48, last=49), preds=Array{Int64, (1,)}[7], succs=Array{Int64, (0,)}[]),\n",
            "  Core.Compiler.BasicBlock(stmts=Core.Compiler.StmtRange(first=50, last=50), preds=Array{Int64, (1,)}[7], succs=Array{Int64, (1,)}[10]),\n",
            "  Core.Compiler.BasicBlock(stmts=Core.Compiler.StmtRange(first=51, last=52), preds=Array{Int64, (1,)}[9], succs=Array{Int64, (1,)}[11]),\n",
            "  Core.Compiler.BasicBlock(stmts=Core.Compiler.StmtRange(first=53, last=53), preds=Array{Int64, (1,)}[10], succs=Array{Int64, (1,)}[12]),\n",
            "  Core.Compiler.BasicBlock(stmts=Core.Compiler.StmtRange(first=54, last=54), preds=Array{Int64, (1,)}[11], succs=Array{Int64, (1,)}[13]),\n",
            "  Core.Compiler.BasicBlock(stmts=Core.Compiler.StmtRange(first=55, last=56), preds=Array{Int64, (1,)}[12], succs=Array{Int64, (1,)}[14]),\n",
            "  Core.Compiler.BasicBlock(stmts=Core.Compiler.StmtRange(first=57, last=65), preds=Array{Int64, (1,)}[13], succs=Array{Int64, (1,)}[15]),\n",
            "  Core.Compiler.BasicBlock(stmts=Core.Compiler.StmtRange(first=66, last=71), preds=Array{Int64, (1,)}[14], succs=Array{Int64, (2,)}[17, 16]),\n",
            "  Core.Compiler.BasicBlock(stmts=Core.Compiler.StmtRange(first=72, last=74), preds=Array{Int64, (1,)}[15], succs=Array{Int64, (0,)}[]),\n",
            "  Core.Compiler.BasicBlock(stmts=Core.Compiler.StmtRange(first=75, last=82), preds=Array{Int64, (1,)}[15], succs=Array{Int64, (2,)}[19, 18]),\n",
            "  Core.Compiler.BasicBlock(stmts=Core.Compiler.StmtRange(first=83, last=84), preds=Array{Int64, (1,)}[17], succs=Array{Int64, (0,)}[]),\n",
            "  Core.Compiler.BasicBlock(stmts=Core.Compiler.StmtRange(first=85, last=85), preds=Array{Int64, (1,)}[17], succs=Array{Int64, (1,)}[20]),\n",
            "  Core.Compiler.BasicBlock(stmts=Core.Compiler.StmtRange(first=86, last=87), preds=Array{Int64, (1,)}[19], succs=Array{Int64, (1,)}[21]),\n",
            "  Core.Compiler.BasicBlock(stmts=Core.Compiler.StmtRange(first=88, last=88), preds=Array{Int64, (1,)}[20], succs=Array{Int64, (1,)}[22]),\n",
            "  Core.Compiler.BasicBlock(stmts=Core.Compiler.StmtRange(first=89, last=89), preds=Array{Int64, (1,)}[21], succs=Array{Int64, (1,)}[23]),\n",
            "  Core.Compiler.BasicBlock(stmts=Core.Compiler.StmtRange(first=90, last=90), preds=Array{Int64, (1,)}[22], succs=Array{Int64, (1,)}[24]),\n",
            "  Core.Compiler.BasicBlock(stmts=Core.Compiler.StmtRange(first=91, last=92), preds=Array{Int64, (1,)}[23], succs=Array{Int64, (1,)}[25]),\n",
            "  Core.Compiler.BasicBlock(stmts=Core.Compiler.StmtRange(first=93, last=93), preds=Array{Int64, (1,)}[24], succs=Array{Int64, (1,)}[26]),\n",
            "  Core.Compiler.BasicBlock(stmts=Core.Compiler.StmtRange(first=94, last=94), preds=Array{Int64, (1,)}[25], succs=Array{Int64, (1,)}[27]),\n",
            "  Core.Compiler.BasicBlock(stmts=Core.Compiler.StmtRange(first=95, last=95), preds=Array{Int64, (1,)}[26], succs=Array{Int64, (2,)}[29, 28]),\n",
            "  Core.Compiler.BasicBlock(stmts=Core.Compiler.StmtRange(first=96, last=98), preds=Array{Int64, (1,)}[27], succs=Array{Int64, (0,)}[]),\n",
            "  Core.Compiler.BasicBlock(stmts=Core.Compiler.StmtRange(first=99, last=102), preds=Array{Int64, (1,)}[27], succs=Array{Int64, (2,)}[31, 30]),\n",
            "  Core.Compiler.BasicBlock(stmts=Core.Compiler.StmtRange(first=103, last=103), preds=Array{Int64, (1,)}[29], succs=Array{Int64, (1,)}[32]),\n",
            "  Core.Compiler.BasicBlock(stmts=Core.Compiler.StmtRange(first=104, last=104), preds=Array{Int64, (1,)}[29], succs=Array{Int64, (1,)}[32]),\n",
            "  Core.Compiler.BasicBlock(stmts=Core.Compiler.StmtRange(first=105, last=107), preds=Array{Int64, (2,)}[30, 31], succs=Array{Int64, (1,)}[1])], i=(0,))\n",
            "rec_backtrace at /buildworker/worker/package_linux64/build/src/stackwalk.c:94\n",
            "record_backtrace at /buildworker/worker/package_linux64/build/src/task.c:246\n",
            "jl_throw at /buildworker/worker/package_linux64/build/src/task.c:577\n",
            "jl_bounds_error_ints at /buildworker/worker/package_linux64/build/src/rtutils.c:187\n",
            "getindex at ./array.jl:731\n",
            "jfptr_getindex_1594.clone_1 at /usr/lib/julia/sys.so (unknown line)\n",
            "jl_apply_generic at /buildworker/worker/package_linux64/build/src/gf.c:2162\n",
            "replace_code_newstyle! at ./compiler/ssair/legacy.jl:80\n",
            "optimize at ./compiler/optimize.jl:212\n",
            "typeinf at ./compiler/typeinfer.jl:35\n",
            "typeinf_ext at ./compiler/typeinfer.jl:574\n",
            "typeinf_ext at ./compiler/typeinfer.jl:611\n",
            "jfptr_typeinf_ext_1.clone_1 at /usr/lib/julia/sys.so (unknown line)\n",
            "jl_apply_generic at /buildworker/worker/package_linux64/build/src/gf.c:2162\n",
            "jl_apply at /buildworker/worker/package_linux64/build/src/julia.h:1537 [inlined]\n",
            "jl_apply_with_saved_exception_state at /buildworker/worker/package_linux64/build/src/rtutils.c:257\n",
            "jl_type_infer at /buildworker/worker/package_linux64/build/src/gf.c:253\n",
            "jl_compile_method_internal at /buildworker/worker/package_linux64/build/src/gf.c:1764 [inlined]\n",
            "jl_fptr_trampoline at /buildworker/worker/package_linux64/build/src/gf.c:1808\n",
            "jl_apply_generic at /buildworker/worker/package_linux64/build/src/gf.c:2162\n",
            "jl_apply at /buildworker/worker/package_linux64/build/src/julia.h:1537 [inlined]\n",
            "start_task at /buildworker/worker/package_linux64/build/src/task.c:268\n",
            "unknown function (ip: 0xffffffffffffffff)\n"
          ],
          "name": "stderr"
        }
      ]
    },
    {
      "cell_type": "code",
      "metadata": {
        "id": "uyuCL_spdRhU",
        "colab_type": "code",
        "outputId": "a0394259-3c4c-4460-c9e2-83f20000d2ec",
        "colab": {
          "base_uri": "https://localhost:8080/",
          "height": 206
        }
      },
      "source": [
        "Pkg.add(\"BenchmarkTools\")\n",
        "\n",
        "Pkg.add(\"Test\")\n",
        "\n",
        "using BenchmarkTools, Test"
      ],
      "execution_count": 2,
      "outputs": [
        {
          "output_type": "stream",
          "text": [
            "\u001b[32m\u001b[1m Resolving\u001b[22m\u001b[39m package versions...\n",
            "\u001b[32m\u001b[1m  Updating\u001b[22m\u001b[39m `~/.julia/environments/v1.0/Project.toml`\n",
            "\u001b[90m [no changes]\u001b[39m\n",
            "\u001b[32m\u001b[1m  Updating\u001b[22m\u001b[39m `~/.julia/environments/v1.0/Manifest.toml`\n",
            "\u001b[90m [no changes]\u001b[39m\n",
            "\u001b[32m\u001b[1m Resolving\u001b[22m\u001b[39m package versions...\n",
            "\u001b[32m\u001b[1m  Updating\u001b[22m\u001b[39m `~/.julia/environments/v1.0/Project.toml`\n",
            "\u001b[90m [no changes]\u001b[39m\n",
            "\u001b[32m\u001b[1m  Updating\u001b[22m\u001b[39m `~/.julia/environments/v1.0/Manifest.toml`\n",
            "\u001b[90m [no changes]\u001b[39m\n"
          ],
          "name": "stdout"
        }
      ]
    },
    {
      "cell_type": "code",
      "metadata": {
        "id": "jl-9wXW8dUk0",
        "colab_type": "code",
        "outputId": "5865bab6-d152-4531-989d-4b56a6bbbe77",
        "colab": {
          "base_uri": "https://localhost:8080/",
          "height": 36
        }
      },
      "source": [
        "#Initializing necessary matrices and variables\n",
        "\n",
        "N=parse(Int64,readline())\n",
        "\n",
        "M1=rand(Float32,N,N)\n",
        "\n",
        "M2=rand(Float32,N,N)\n",
        "\n",
        "ParallelM=zeros(Float32,N,N)\n",
        "\n",
        "SerialM=zeros(Float32,N,N);\n"
      ],
      "execution_count": 24,
      "outputs": [
        {
          "output_type": "stream",
          "text": [
            "stdin> 200\n"
          ],
          "name": "stdout"
        }
      ]
    },
    {
      "cell_type": "code",
      "metadata": {
        "id": "jnUCnsrIdXmm",
        "colab_type": "code",
        "outputId": "de68a4cc-1d1d-4906-98c3-4dc5a27a6c98",
        "colab": {
          "base_uri": "https://localhost:8080/",
          "height": 36
        }
      },
      "source": [
        "#Naive Matrix Multiplication in the Sequential format\n",
        "\n",
        "function sequential_multiplication!(M1,M2,SerialM,N)\n",
        "\n",
        " for i in 1:N\n",
        "\n",
        "  for j in 1:N\n",
        "\n",
        "  sum=0\n",
        "\n",
        "   for k in 1:N\n",
        "\n",
        "    sum+=M1[CartesianIndex(i,k)]*M2[CartesianIndex(k,j)]\n",
        "\n",
        "   end\n",
        "\n",
        "   SerialM[CartesianIndex(i,j)]=sum\n",
        "\n",
        "  end\n",
        "\n",
        " end\n",
        "\n",
        "end "
      ],
      "execution_count": 27,
      "outputs": [
        {
          "output_type": "execute_result",
          "data": {
            "text/plain": [
              "sequential_multiplication! (generic function with 1 method)"
            ]
          },
          "metadata": {
            "tags": []
          },
          "execution_count": 27
        }
      ]
    },
    {
      "cell_type": "code",
      "metadata": {
        "id": "rVQr_nyfdaOT",
        "colab_type": "code",
        "outputId": "2c74d277-9466-4579-974f-1b8b928d1918",
        "colab": {
          "base_uri": "https://localhost:8080/",
          "height": 526
        }
      },
      "source": [
        "#Transferring data to the device from the host\n",
        "\n",
        "D_ParallelM=CuArray(ParallelM)\n",
        "\n",
        "D_M1=CuArray(M1)\n",
        "\n",
        "D_M2=CuArray(M2)\n"
      ],
      "execution_count": 28,
      "outputs": [
        {
          "output_type": "execute_result",
          "data": {
            "text/plain": [
              "200×200 CuArray{Float32,2}:\n",
              " 0.527656   0.710957   0.338796   …  0.189387   0.710702   0.973829   \n",
              " 0.32401    0.347381   0.518803      0.308182   0.969847   0.485042   \n",
              " 0.57957    0.759278   0.680202      0.245455   0.363693   0.0869473  \n",
              " 0.716606   0.475484   0.0332795     0.753304   0.404614   0.260337   \n",
              " 0.591824   0.335478   0.712172      0.297172   0.858222   0.000423908\n",
              " 0.215169   0.373706   0.836659   …  0.884782   0.347741   0.610559   \n",
              " 0.47026    0.47903    0.242297      0.809379   0.995136   0.130399   \n",
              " 0.878547   0.296098   0.276701      0.661493   0.5801     0.73938    \n",
              " 0.516205   0.802405   0.435897      0.465838   0.988598   0.452164   \n",
              " 0.778921   0.395004   0.400467      0.849023   0.663865   0.33032    \n",
              " 0.810615   0.168381   0.420969   …  0.656831   0.740862   0.129437   \n",
              " 0.170093   0.211346   0.924168      0.122106   0.894114   0.322706   \n",
              " 0.791759   0.434697   0.457093      0.566284   0.0733985  0.347932   \n",
              " ⋮                                ⋱                                   \n",
              " 0.559799   0.755198   0.289825      0.32023    0.732974   0.634947   \n",
              " 0.855976   0.589659   0.796623      0.295897   0.162168   0.355309   \n",
              " 0.135083   0.484366   0.190596   …  0.824032   0.289842   0.504362   \n",
              " 0.0391753  0.320935   0.339498      0.255984   0.315365   0.704516   \n",
              " 0.446054   0.0742472  0.906187      0.612742   0.26836    0.213482   \n",
              " 0.76666    0.724057   0.609261      0.701495   0.400323   0.122785   \n",
              " 0.922039   0.78547    0.719157      0.264767   0.677529   0.0148797  \n",
              " 0.306819   0.595255   0.566759   …  0.0547305  0.110369   0.479296   \n",
              " 0.5246     0.399814   0.136476      0.688403   0.478906   0.899891   \n",
              " 0.472117   0.614356   0.395647      0.115259   0.568588   0.80207    \n",
              " 0.49798    0.442137   0.784178      0.721993   0.987456   0.544491   \n",
              " 0.0575944  0.512531   0.978548      0.72832    0.336829   0.835982   "
            ]
          },
          "metadata": {
            "tags": []
          },
          "execution_count": 28
        }
      ]
    },
    {
      "cell_type": "code",
      "metadata": {
        "id": "7tWarKq5ddOH",
        "colab_type": "code",
        "outputId": "26ccf819-98e8-43e8-f86b-1a349d479083",
        "colab": {
          "base_uri": "https://localhost:8080/",
          "height": 36
        }
      },
      "source": [
        "#Naive Matrix Multiplication in the Parallel Format\n",
        "\n",
        "function parallel_multiplication!(M1,M2,ParallelM,N)\n",
        " sum = 0\n",
        " threadId = (blockIdx().x - 1)*blockDim().x*blockDim().y + (threadIdx().y -1)*blockDim().x + threadIdx().x\n",
        " x=trunc(Int32,threadId/N) + 1\n",
        " y=trunc(Int32,threadId%N) + 1\n",
        " for k in 1:N \n",
        "  @inbounds sum = sum + M1[CartesianIndex(x,k)] * M2[CartesianIndex(k,y)]\n",
        " end\n",
        " @inbounds ParallelM[CartesianIndex(x,y)] = sum\n",
        " return\n",
        "end\n"
      ],
      "execution_count": 31,
      "outputs": [
        {
          "output_type": "execute_result",
          "data": {
            "text/plain": [
              "parallel_multiplication! (generic function with 1 method)"
            ]
          },
          "metadata": {
            "tags": []
          },
          "execution_count": 31
        }
      ]
    },
    {
      "cell_type": "code",
      "metadata": {
        "id": "ubvcvi-rdf6W",
        "colab_type": "code",
        "outputId": "727503ac-3e6e-405c-d494-63899e9ce85d",
        "colab": {
          "base_uri": "https://localhost:8080/",
          "height": 74
        }
      },
      "source": [
        "@btime sequential_multiplication!(M1,M2,SerialM,N)\n",
        "@btime @cuda blocks = trunc(Int32,(N^2)/1024) threads = (32,32) parallel_multiplication!(D_M1,D_M2,D_ParallelM,N)\n",
        "H_ParallelM=Array(D_ParallelM)\n",
        "@test isapprox(SerialM,H_ParallelM)"
      ],
      "execution_count": 32,
      "outputs": [
        {
          "output_type": "stream",
          "text": [
            "  11.150 ms (0 allocations: 0 bytes)\n",
            "  10.158 μs (61 allocations: 2.33 KiB)\n"
          ],
          "name": "stdout"
        },
        {
          "output_type": "execute_result",
          "data": {
            "text/plain": [
              "\u001b[32m\u001b[1mTest Passed\u001b[22m\u001b[39m"
            ]
          },
          "metadata": {
            "tags": []
          },
          "execution_count": 32
        }
      ]
    }
  ]
}