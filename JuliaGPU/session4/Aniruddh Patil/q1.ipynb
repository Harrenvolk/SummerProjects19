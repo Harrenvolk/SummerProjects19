{
  "nbformat": 4,
  "nbformat_minor": 0,
  "metadata": {
    "colab": {
      "name": "Julia on Colab",
      "version": "0.3.2",
      "provenance": [],
      "collapsed_sections": []
    },
    "kernelspec": {
      "name": "julia-1.0",
      "display_name": "Julia 1.0"
    },
    "accelerator": "GPU"
  },
  "cells": [
    {
      "cell_type": "code",
      "metadata": {
        "id": "oMSuTc3pDlHv",
        "colab_type": "code",
        "outputId": "fb531648-af09-4154-bc26-fde084b3268c",
        "colab": {
          "base_uri": "https://localhost:8080/",
          "height": 1413
        }
      },
      "source": [
        "using Pkg\n",
        "\n",
        "Pkg.add(\"CuArrays\")\n",
        "\n",
        "Pkg.add(\"CUDAnative\")\n",
        "\n",
        "Pkg.add(\"CUDAdrv\")\n",
        "\n",
        "using CUDAnative, CUDAdrv, CuArrays"
      ],
      "execution_count": 1,
      "outputs": [
        {
          "output_type": "stream",
          "text": [
            "\u001b[32m\u001b[1m  Updating\u001b[22m\u001b[39m registry at `~/.julia/registries/General`\n",
            "\u001b[32m\u001b[1m  Updating\u001b[22m\u001b[39m git-repo `https://github.com/JuliaRegistries/General.git`\n",
            "\u001b[?25l\u001b[2K\u001b[?25h\u001b[32m\u001b[1m Resolving\u001b[22m\u001b[39m package versions...\n",
            "\u001b[32m\u001b[1m  Updating\u001b[22m\u001b[39m `~/.julia/environments/v1.0/Project.toml`\n",
            "\u001b[90m [no changes]\u001b[39m\n",
            "\u001b[32m\u001b[1m  Updating\u001b[22m\u001b[39m `~/.julia/environments/v1.0/Manifest.toml`\n",
            "\u001b[90m [no changes]\u001b[39m\n",
            "\u001b[32m\u001b[1m Resolving\u001b[22m\u001b[39m package versions...\n",
            "\u001b[32m\u001b[1m  Updating\u001b[22m\u001b[39m `~/.julia/environments/v1.0/Project.toml`\n",
            " \u001b[90m [be33ccc6]\u001b[39m\u001b[92m + CUDAnative v2.1.3\u001b[39m\n",
            "\u001b[32m\u001b[1m  Updating\u001b[22m\u001b[39m `~/.julia/environments/v1.0/Manifest.toml`\n",
            "\u001b[90m [no changes]\u001b[39m\n",
            "\u001b[32m\u001b[1m Resolving\u001b[22m\u001b[39m package versions...\n",
            "\u001b[32m\u001b[1m  Updating\u001b[22m\u001b[39m `~/.julia/environments/v1.0/Project.toml`\n",
            " \u001b[90m [c5f51814]\u001b[39m\u001b[92m + CUDAdrv v3.0.1\u001b[39m\n",
            "\u001b[32m\u001b[1m  Updating\u001b[22m\u001b[39m `~/.julia/environments/v1.0/Manifest.toml`\n",
            "\u001b[90m [no changes]\u001b[39m\n"
          ],
          "name": "stdout"
        },
        {
          "output_type": "stream",
          "text": [
            "Internal error: encountered unexpected error in runtime:\n",
            "BoundsError(a=Array{Core.Compiler.BasicBlock, (32,)}[\n",
            "  Core.Compiler.BasicBlock(stmts=Core.Compiler.StmtRange(first=1, last=7), preds=Array{Int64, (1,)}[32], succs=Array{Int64, (1,)}[2]),\n",
            "  Core.Compiler.BasicBlock(stmts=Core.Compiler.StmtRange(first=8, last=14), preds=Array{Int64, (1,)}[1], succs=Array{Int64, (2,)}[5, 3]),\n",
            "  Core.Compiler.BasicBlock(stmts=Core.Compiler.StmtRange(first=15, last=20), preds=Array{Int64, (1,)}[2], succs=Array{Int64, (1,)}[4]),\n",
            "  Core.Compiler.BasicBlock(stmts=Core.Compiler.StmtRange(first=21, last=21), preds=Array{Int64, (1,)}[3], succs=Array{Int64, (1,)}[7]),\n",
            "  Core.Compiler.BasicBlock(stmts=Core.Compiler.StmtRange(first=22, last=28), preds=Array{Int64, (1,)}[2], succs=Array{Int64, (1,)}[6]),\n",
            "  Core.Compiler.BasicBlock(stmts=Core.Compiler.StmtRange(first=29, last=29), preds=Array{Int64, (1,)}[5], succs=Array{Int64, (1,)}[7]),\n",
            "  Core.Compiler.BasicBlock(stmts=Core.Compiler.StmtRange(first=30, last=47), preds=Array{Int64, (2,)}[4, 6], succs=Array{Int64, (2,)}[9, 8]),\n",
            "  Core.Compiler.BasicBlock(stmts=Core.Compiler.StmtRange(first=48, last=49), preds=Array{Int64, (1,)}[7], succs=Array{Int64, (0,)}[]),\n",
            "  Core.Compiler.BasicBlock(stmts=Core.Compiler.StmtRange(first=50, last=50), preds=Array{Int64, (1,)}[7], succs=Array{Int64, (1,)}[10]),\n",
            "  Core.Compiler.BasicBlock(stmts=Core.Compiler.StmtRange(first=51, last=52), preds=Array{Int64, (1,)}[9], succs=Array{Int64, (1,)}[11]),\n",
            "  Core.Compiler.BasicBlock(stmts=Core.Compiler.StmtRange(first=53, last=53), preds=Array{Int64, (1,)}[10], succs=Array{Int64, (1,)}[12]),\n",
            "  Core.Compiler.BasicBlock(stmts=Core.Compiler.StmtRange(first=54, last=54), preds=Array{Int64, (1,)}[11], succs=Array{Int64, (1,)}[13]),\n",
            "  Core.Compiler.BasicBlock(stmts=Core.Compiler.StmtRange(first=55, last=56), preds=Array{Int64, (1,)}[12], succs=Array{Int64, (1,)}[14]),\n",
            "  Core.Compiler.BasicBlock(stmts=Core.Compiler.StmtRange(first=57, last=65), preds=Array{Int64, (1,)}[13], succs=Array{Int64, (1,)}[15]),\n",
            "  Core.Compiler.BasicBlock(stmts=Core.Compiler.StmtRange(first=66, last=71), preds=Array{Int64, (1,)}[14], succs=Array{Int64, (2,)}[17, 16]),\n",
            "  Core.Compiler.BasicBlock(stmts=Core.Compiler.StmtRange(first=72, last=74), preds=Array{Int64, (1,)}[15], succs=Array{Int64, (0,)}[]),\n",
            "  Core.Compiler.BasicBlock(stmts=Core.Compiler.StmtRange(first=75, last=82), preds=Array{Int64, (1,)}[15], succs=Array{Int64, (2,)}[19, 18]),\n",
            "  Core.Compiler.BasicBlock(stmts=Core.Compiler.StmtRange(first=83, last=84), preds=Array{Int64, (1,)}[17], succs=Array{Int64, (0,)}[]),\n",
            "  Core.Compiler.BasicBlock(stmts=Core.Compiler.StmtRange(first=85, last=85), preds=Array{Int64, (1,)}[17], succs=Array{Int64, (1,)}[20]),\n",
            "  Core.Compiler.BasicBlock(stmts=Core.Compiler.StmtRange(first=86, last=87), preds=Array{Int64, (1,)}[19], succs=Array{Int64, (1,)}[21]),\n",
            "  Core.Compiler.BasicBlock(stmts=Core.Compiler.StmtRange(first=88, last=88), preds=Array{Int64, (1,)}[20], succs=Array{Int64, (1,)}[22]),\n",
            "  Core.Compiler.BasicBlock(stmts=Core.Compiler.StmtRange(first=89, last=89), preds=Array{Int64, (1,)}[21], succs=Array{Int64, (1,)}[23]),\n",
            "  Core.Compiler.BasicBlock(stmts=Core.Compiler.StmtRange(first=90, last=90), preds=Array{Int64, (1,)}[22], succs=Array{Int64, (1,)}[24]),\n",
            "  Core.Compiler.BasicBlock(stmts=Core.Compiler.StmtRange(first=91, last=92), preds=Array{Int64, (1,)}[23], succs=Array{Int64, (1,)}[25]),\n",
            "  Core.Compiler.BasicBlock(stmts=Core.Compiler.StmtRange(first=93, last=93), preds=Array{Int64, (1,)}[24], succs=Array{Int64, (1,)}[26]),\n",
            "  Core.Compiler.BasicBlock(stmts=Core.Compiler.StmtRange(first=94, last=94), preds=Array{Int64, (1,)}[25], succs=Array{Int64, (1,)}[27]),\n",
            "  Core.Compiler.BasicBlock(stmts=Core.Compiler.StmtRange(first=95, last=95), preds=Array{Int64, (1,)}[26], succs=Array{Int64, (2,)}[29, 28]),\n",
            "  Core.Compiler.BasicBlock(stmts=Core.Compiler.StmtRange(first=96, last=98), preds=Array{Int64, (1,)}[27], succs=Array{Int64, (0,)}[]),\n",
            "  Core.Compiler.BasicBlock(stmts=Core.Compiler.StmtRange(first=99, last=102), preds=Array{Int64, (1,)}[27], succs=Array{Int64, (2,)}[31, 30]),\n",
            "  Core.Compiler.BasicBlock(stmts=Core.Compiler.StmtRange(first=103, last=103), preds=Array{Int64, (1,)}[29], succs=Array{Int64, (1,)}[32]),\n",
            "  Core.Compiler.BasicBlock(stmts=Core.Compiler.StmtRange(first=104, last=104), preds=Array{Int64, (1,)}[29], succs=Array{Int64, (1,)}[32]),\n",
            "  Core.Compiler.BasicBlock(stmts=Core.Compiler.StmtRange(first=105, last=107), preds=Array{Int64, (2,)}[30, 31], succs=Array{Int64, (1,)}[1])], i=(0,))\n",
            "rec_backtrace at /buildworker/worker/package_linux64/build/src/stackwalk.c:94\n",
            "record_backtrace at /buildworker/worker/package_linux64/build/src/task.c:246\n",
            "jl_throw at /buildworker/worker/package_linux64/build/src/task.c:577\n",
            "jl_bounds_error_ints at /buildworker/worker/package_linux64/build/src/rtutils.c:187\n",
            "getindex at ./array.jl:731\n",
            "jfptr_getindex_1594.clone_1 at /usr/lib/julia/sys.so (unknown line)\n",
            "jl_apply_generic at /buildworker/worker/package_linux64/build/src/gf.c:2162\n",
            "replace_code_newstyle! at ./compiler/ssair/legacy.jl:80\n",
            "optimize at ./compiler/optimize.jl:212\n",
            "typeinf at ./compiler/typeinfer.jl:35\n",
            "typeinf_ext at ./compiler/typeinfer.jl:574\n",
            "typeinf_ext at ./compiler/typeinfer.jl:611\n",
            "jfptr_typeinf_ext_1.clone_1 at /usr/lib/julia/sys.so (unknown line)\n",
            "jl_apply_generic at /buildworker/worker/package_linux64/build/src/gf.c:2162\n",
            "jl_apply at /buildworker/worker/package_linux64/build/src/julia.h:1537 [inlined]\n",
            "jl_apply_with_saved_exception_state at /buildworker/worker/package_linux64/build/src/rtutils.c:257\n",
            "jl_type_infer at /buildworker/worker/package_linux64/build/src/gf.c:253\n",
            "jl_compile_method_internal at /buildworker/worker/package_linux64/build/src/gf.c:1764 [inlined]\n",
            "jl_fptr_trampoline at /buildworker/worker/package_linux64/build/src/gf.c:1808\n",
            "jl_apply_generic at /buildworker/worker/package_linux64/build/src/gf.c:2162\n",
            "jl_apply at /buildworker/worker/package_linux64/build/src/julia.h:1537 [inlined]\n",
            "start_task at /buildworker/worker/package_linux64/build/src/task.c:268\n",
            "unknown function (ip: 0xffffffffffffffff)\n"
          ],
          "name": "stderr"
        }
      ]
    },
    {
      "cell_type": "code",
      "metadata": {
        "id": "uyuCL_spdRhU",
        "colab_type": "code",
        "outputId": "fa2955e0-ef3d-4762-bd5f-1d94365b2aee",
        "colab": {
          "base_uri": "https://localhost:8080/",
          "height": 262
        }
      },
      "source": [
        "Pkg.add(\"BenchmarkTools\")\n",
        "\n",
        "Pkg.add(\"Test\")\n",
        "\n",
        "using BenchmarkTools, Test"
      ],
      "execution_count": 2,
      "outputs": [
        {
          "output_type": "stream",
          "text": [
            "\u001b[32m\u001b[1m Resolving\u001b[22m\u001b[39m package versions...\n",
            "\u001b[32m\u001b[1m Installed\u001b[22m\u001b[39m BenchmarkTools ─ v0.4.2\n",
            "\u001b[32m\u001b[1m  Updating\u001b[22m\u001b[39m `~/.julia/environments/v1.0/Project.toml`\n",
            " \u001b[90m [6e4b80f9]\u001b[39m\u001b[92m + BenchmarkTools v0.4.2\u001b[39m\n",
            "\u001b[32m\u001b[1m  Updating\u001b[22m\u001b[39m `~/.julia/environments/v1.0/Manifest.toml`\n",
            " \u001b[90m [6e4b80f9]\u001b[39m\u001b[92m + BenchmarkTools v0.4.2\u001b[39m\n",
            "\u001b[32m\u001b[1m Resolving\u001b[22m\u001b[39m package versions...\n",
            "\u001b[32m\u001b[1m  Updating\u001b[22m\u001b[39m `~/.julia/environments/v1.0/Project.toml`\n",
            " \u001b[90m [8dfed614]\u001b[39m\u001b[92m + Test \u001b[39m\n",
            "\u001b[32m\u001b[1m  Updating\u001b[22m\u001b[39m `~/.julia/environments/v1.0/Manifest.toml`\n",
            "\u001b[90m [no changes]\u001b[39m\n"
          ],
          "name": "stdout"
        },
        {
          "output_type": "stream",
          "text": [
            "┌ Info: Precompiling BenchmarkTools [6e4b80f9-dd63-53aa-95a3-0cdb28fa8baf]\n",
            "└ @ Base loading.jl:1192\n"
          ],
          "name": "stderr"
        }
      ]
    },
    {
      "cell_type": "code",
      "metadata": {
        "id": "jl-9wXW8dUk0",
        "colab_type": "code",
        "outputId": "382404b6-b5a9-4da6-f9ea-36066f7c73dc",
        "colab": {
          "base_uri": "https://localhost:8080/",
          "height": 36
        }
      },
      "source": [
        "#Initializing necessary matrices and variables\n",
        "\n",
        "N=parse(Int64,readline())\n",
        "\n",
        "M1=rand(Float32,N,N)\n",
        "\n",
        "M2=rand(Float32,N,N)\n",
        "\n",
        "ParallelM=zeros(Float32,N,N)\n",
        "\n",
        "SerialM=zeros(Float32,N,N);\n"
      ],
      "execution_count": 22,
      "outputs": [
        {
          "output_type": "stream",
          "text": [
            "stdin> 2000\n"
          ],
          "name": "stdout"
        }
      ]
    },
    {
      "cell_type": "code",
      "metadata": {
        "id": "3G6QqFFe9N0f",
        "colab_type": "code",
        "outputId": "da3dfcac-41d7-40e4-a6ad-a1a13feda5b7",
        "colab": {
          "base_uri": "https://localhost:8080/",
          "height": 36
        }
      },
      "source": [
        "function sequential_multiplication!(M1,M2,SerialM,N)\n",
        " for i in 1:N\n",
        "  for j in 1:N\n",
        "   sum = 0\n",
        "   for k in 1:N\n",
        "    sum += M1[i,k] * M2[k,j]\n",
        "   end\n",
        "   SerialM[i,j] = sum\n",
        "  end\n",
        " end\n",
        "end \n",
        " "
      ],
      "execution_count": 23,
      "outputs": [
        {
          "output_type": "execute_result",
          "data": {
            "text/plain": [
              "sequential_multiplication! (generic function with 1 method)"
            ]
          },
          "metadata": {
            "tags": []
          },
          "execution_count": 23
        }
      ]
    },
    {
      "cell_type": "code",
      "metadata": {
        "id": "rVQr_nyfdaOT",
        "colab_type": "code",
        "outputId": "2ecff5d4-9637-4d8f-81d9-9c8f838b680e",
        "colab": {
          "base_uri": "https://localhost:8080/",
          "height": 526
        }
      },
      "source": [
        "#Transferring data to the device from the host\n",
        "\n",
        "D_ParallelM=CuArray(ParallelM)\n",
        "\n",
        "D_M1=CuArray(M1)\n",
        "\n",
        "D_M2=CuArray(M2)\n"
      ],
      "execution_count": 24,
      "outputs": [
        {
          "output_type": "execute_result",
          "data": {
            "text/plain": [
              "2000×2000 CuArray{Float32,2}:\n",
              " 0.602119   0.910059   0.256858   …  0.241932   0.395225    0.717418  \n",
              " 0.203087   0.689398   0.0377104     0.686151   0.00226462  0.840313  \n",
              " 0.523306   0.302685   0.877051      0.687856   0.590213    0.832803  \n",
              " 0.407511   0.688244   0.897145      0.183727   0.881352    0.160002  \n",
              " 0.838856   0.0140892  0.831357      0.509102   0.847047    0.481481  \n",
              " 0.330664   0.437633   0.307116   …  0.12902    0.0938993   0.622898  \n",
              " 0.57943    0.708338   0.487313      0.279438   0.277556    0.0635089 \n",
              " 0.431431   0.740841   0.912193      0.551823   0.700631    0.97049   \n",
              " 0.248804   0.0759093  0.203614      0.197023   0.504779    0.38533   \n",
              " 0.697608   0.576224   0.99373       0.100421   0.436154    0.0122278 \n",
              " 0.703544   0.373988   0.228922   …  0.606856   0.912959    0.0589983 \n",
              " 0.6105     0.993407   0.431615      0.670306   0.293111    0.00117838\n",
              " 0.509377   0.485065   0.131433      0.455341   0.281696    0.424354  \n",
              " ⋮                                ⋱                                   \n",
              " 0.970398   0.870919   0.419649      0.462953   0.865147    0.239041  \n",
              " 0.390268   0.147454   0.714724      0.658525   0.776644    0.282035  \n",
              " 0.0281913  0.587417   0.559672   …  0.95092    0.971049    0.0714146 \n",
              " 0.0338547  0.900685   0.110016      0.928073   0.783468    0.802465  \n",
              " 0.712545   0.805606   0.485248      0.908502   0.31249     0.964236  \n",
              " 0.164122   0.417979   0.731821      0.729289   0.651993    0.587724  \n",
              " 0.678446   0.118625   0.239688      0.198423   0.724386    0.915902  \n",
              " 0.474143   0.549345   0.30607    …  0.0206487  0.489013    0.828624  \n",
              " 0.412779   0.238487   0.0125408     0.78444    0.790767    0.483392  \n",
              " 0.611559   0.586434   0.605416      0.0025661  0.309016    0.876194  \n",
              " 0.886334   0.63942    0.194177      0.476266   0.083335    0.380973  \n",
              " 0.537912   0.111025   0.41802       0.811521   0.431185    0.776016  "
            ]
          },
          "metadata": {
            "tags": []
          },
          "execution_count": 24
        }
      ]
    },
    {
      "cell_type": "code",
      "metadata": {
        "id": "7tWarKq5ddOH",
        "colab_type": "code",
        "outputId": "c35cdd5b-c6be-4539-993f-f1fcdb461e53",
        "colab": {
          "base_uri": "https://localhost:8080/",
          "height": 36
        }
      },
      "source": [
        "#Matrix Multiplication in the Parallel Format\n",
        "\n",
        "function parallel_multiplication!(M1,M2,ParallelM,N)\n",
        " x = (blockIdx().x-1)*blockDim().x + threadIdx().x \n",
        " y = (blockIdx().y-1)*blockDim().y + threadIdx().y \n",
        " if(x<=N && y<=N)\n",
        "  sum=0\n",
        "  for i in 1:N\n",
        "   @inbounds sum = sum + M1[x,i] * M2[i,y]\n",
        "  end\n",
        " @inbounds ParallelM[x,y]=sum\n",
        " end \n",
        "return\n",
        "end"
      ],
      "execution_count": 25,
      "outputs": [
        {
          "output_type": "execute_result",
          "data": {
            "text/plain": [
              "parallel_multiplication! (generic function with 1 method)"
            ]
          },
          "metadata": {
            "tags": []
          },
          "execution_count": 25
        }
      ]
    },
    {
      "cell_type": "code",
      "metadata": {
        "id": "ubvcvi-rdf6W",
        "colab_type": "code",
        "outputId": "83f91c41-a092-45ca-da66-72414b8bdd42",
        "colab": {
          "base_uri": "https://localhost:8080/",
          "height": 74
        }
      },
      "source": [
        "@btime sequential_multiplication!(M1,M2,SerialM,N)\n",
        "@btime @cuda blocks = (ceil(Int32,(N/32)),ceil(Int32,(N/32))) threads = (32,32) parallel_multiplication!(D_M1,D_M2,D_ParallelM,N)\n",
        "H_ParallelM=Array(D_ParallelM);\n",
        "@test isapprox(SerialM,H_ParallelM)"
      ],
      "execution_count": 26,
      "outputs": [
        {
          "output_type": "stream",
          "text": [
            "  48.169 s (0 allocations: 0 bytes)\n",
            "  10.829 μs (69 allocations: 2.45 KiB)\n"
          ],
          "name": "stdout"
        },
        {
          "output_type": "execute_result",
          "data": {
            "text/plain": [
              "\u001b[32m\u001b[1mTest Passed\u001b[22m\u001b[39m"
            ]
          },
          "metadata": {
            "tags": []
          },
          "execution_count": 26
        }
      ]
    }
  ]
}